{
 "cells": [
  {
   "cell_type": "markdown",
   "metadata": {},
   "source": [
    "# Softmax exercise\n",
    "\n",
    "*Complete and hand in this completed worksheet (including its outputs and any supporting code outside of the worksheet) with your assignment submission. For more details see the [assignments page](http://vision.stanford.edu/teaching/cs231n/assignments.html) on the course website.*\n",
    "\n",
    "This exercise is analogous to the SVM exercise. You will:\n",
    "\n",
    "- implement a fully-vectorized **loss function** for the Softmax classifier\n",
    "- implement the fully-vectorized expression for its **analytic gradient**\n",
    "- **check your implementation** with numerical gradient\n",
    "- use a validation set to **tune the learning rate and regularization** strength\n",
    "- **optimize** the loss function with **SGD**\n",
    "- **visualize** the final learned weights\n"
   ]
  },
  {
   "cell_type": "code",
   "execution_count": 1,
   "metadata": {
    "collapsed": false
   },
   "outputs": [],
   "source": [
    "import random\n",
    "import numpy as np\n",
    "from cs231n.data_utils import load_CIFAR10\n",
    "import matplotlib.pyplot as plt\n",
    "%matplotlib inline\n",
    "plt.rcParams['figure.figsize'] = (10.0, 8.0) # set default size of plots\n",
    "plt.rcParams['image.interpolation'] = 'nearest'\n",
    "plt.rcParams['image.cmap'] = 'gray'\n",
    "\n",
    "# for auto-reloading extenrnal modules\n",
    "# see http://stackoverflow.com/questions/1907993/autoreload-of-modules-in-ipython\n",
    "%load_ext autoreload\n",
    "%autoreload 2"
   ]
  },
  {
   "cell_type": "code",
   "execution_count": 2,
   "metadata": {
    "collapsed": false
   },
   "outputs": [
    {
     "name": "stdout",
     "output_type": "stream",
     "text": [
      "Train data shape:  (49000L, 3073L)\n",
      "Train labels shape:  (49000L,)\n",
      "Validation data shape:  (1000L, 3073L)\n",
      "Validation labels shape:  (1000L,)\n",
      "Test data shape:  (1000L, 3073L)\n",
      "Test labels shape:  (1000L,)\n",
      "dev data shape:  (500L, 3073L)\n",
      "dev labels shape:  (500L,)\n"
     ]
    }
   ],
   "source": [
    "def get_CIFAR10_data(num_training=49000, num_validation=1000, num_test=1000, num_dev=500):\n",
    "  \"\"\"\n",
    "  Load the CIFAR-10 dataset from disk and perform preprocessing to prepare\n",
    "  it for the linear classifier. These are the same steps as we used for the\n",
    "  SVM, but condensed to a single function.  \n",
    "  \"\"\"\n",
    "  # Load the raw CIFAR-10 data\n",
    "  cifar10_dir = 'cs231n/datasets/cifar-10-batches-py'\n",
    "  X_train, y_train, X_test, y_test = load_CIFAR10(cifar10_dir)\n",
    "  \n",
    "  # subsample the data\n",
    "  mask = range(num_training, num_training + num_validation)\n",
    "  X_val = X_train[mask]\n",
    "  y_val = y_train[mask]\n",
    "  mask = range(num_training)\n",
    "  X_train = X_train[mask]\n",
    "  y_train = y_train[mask]\n",
    "  mask = range(num_test)\n",
    "  X_test = X_test[mask]\n",
    "  y_test = y_test[mask]\n",
    "  mask = np.random.choice(num_training, num_dev, replace=False)\n",
    "  X_dev = X_train[mask]\n",
    "  y_dev = y_train[mask]\n",
    "  \n",
    "  # Preprocessing: reshape the image data into rows\n",
    "  X_train = np.reshape(X_train, (X_train.shape[0], -1))\n",
    "  X_val = np.reshape(X_val, (X_val.shape[0], -1))\n",
    "  X_test = np.reshape(X_test, (X_test.shape[0], -1))\n",
    "  X_dev = np.reshape(X_dev, (X_dev.shape[0], -1))\n",
    "  \n",
    "  # Normalize the data: subtract the mean image\n",
    "  mean_image = np.mean(X_train, axis = 0)\n",
    "  X_train -= mean_image\n",
    "  X_val -= mean_image\n",
    "  X_test -= mean_image\n",
    "  X_dev -= mean_image\n",
    "  \n",
    "  # add bias dimension and transform into columns\n",
    "  X_train = np.hstack([X_train, np.ones((X_train.shape[0], 1))])\n",
    "  X_val = np.hstack([X_val, np.ones((X_val.shape[0], 1))])\n",
    "  X_test = np.hstack([X_test, np.ones((X_test.shape[0], 1))])\n",
    "  X_dev = np.hstack([X_dev, np.ones((X_dev.shape[0], 1))])\n",
    "  \n",
    "  return X_train, y_train, X_val, y_val, X_test, y_test, X_dev, y_dev\n",
    "\n",
    "\n",
    "# Invoke the above function to get our data.\n",
    "X_train, y_train, X_val, y_val, X_test, y_test, X_dev, y_dev = get_CIFAR10_data()\n",
    "print 'Train data shape: ', X_train.shape\n",
    "print 'Train labels shape: ', y_train.shape\n",
    "print 'Validation data shape: ', X_val.shape\n",
    "print 'Validation labels shape: ', y_val.shape\n",
    "print 'Test data shape: ', X_test.shape\n",
    "print 'Test labels shape: ', y_test.shape\n",
    "print 'dev data shape: ', X_dev.shape\n",
    "print 'dev labels shape: ', y_dev.shape"
   ]
  },
  {
   "cell_type": "markdown",
   "metadata": {},
   "source": [
    "## Softmax Classifier\n",
    "\n",
    "Your code for this section will all be written inside **cs231n/classifiers/softmax.py**. \n"
   ]
  },
  {
   "cell_type": "code",
   "execution_count": 3,
   "metadata": {
    "collapsed": false
   },
   "outputs": [
    {
     "name": "stdout",
     "output_type": "stream",
     "text": [
      "loss: 2.362634\n",
      "sanity check: 2.302585\n"
     ]
    },
    {
     "name": "stderr",
     "output_type": "stream",
     "text": [
      "ERROR: No traceback has been produced, nothing to debug.\n"
     ]
    }
   ],
   "source": [
    "# First implement the naive softmax loss function with nested loops.\n",
    "# Open the file cs231n/classifiers/softmax.py and implement the\n",
    "# softmax_loss_naive function.\n",
    "\n",
    "from cs231n.classifiers.softmax import softmax_loss_naive\n",
    "import time\n",
    "\n",
    "%debug\n",
    "# Generate a random softmax weight matrix and use it to compute the loss.\n",
    "W = np.random.randn(3073, 10) * 0.0001\n",
    "loss, grad = softmax_loss_naive(W, X_dev, y_dev, 0.0)\n",
    "\n",
    "# As a rough sanity check, our loss should be something close to -log(0.1).\n",
    "print 'loss: %f' % loss\n",
    "print 'sanity check: %f' % (-np.log(0.1))"
   ]
  },
  {
   "cell_type": "markdown",
   "metadata": {},
   "source": [
    "## Inline Question 1:\n",
    "Why do we expect our loss to be close to -log(0.1)? Explain briefly.**\n",
    "\n",
    "**Your answer:** Probability of each class should be about 0.1, Thus loss should be close to -log(0.1)\n"
   ]
  },
  {
   "cell_type": "code",
   "execution_count": 19,
   "metadata": {
    "collapsed": false
   },
   "outputs": [
    {
     "name": "stdout",
     "output_type": "stream",
     "text": [
      "numerical: 2.177294 analytic: 2.177293, relative error: 3.008856e-08\n",
      "numerical: 1.240803 analytic: 1.240803, relative error: 4.371585e-08\n",
      "numerical: 0.231862 analytic: 0.231861, relative error: 3.816615e-07\n",
      "numerical: -3.017480 analytic: -3.017480, relative error: 2.370162e-09\n",
      "numerical: 0.149728 analytic: 0.149728, relative error: 3.949070e-07\n",
      "numerical: 0.960415 analytic: 0.960415, relative error: 1.192044e-08\n",
      "numerical: 1.978500 analytic: 1.978500, relative error: 1.574823e-10\n",
      "numerical: -2.604635 analytic: -2.604635, relative error: 5.104449e-09\n",
      "numerical: -4.843932 analytic: -4.843932, relative error: 1.969890e-09\n",
      "numerical: 3.037114 analytic: 3.037114, relative error: 1.613115e-09\n",
      "numerical: -0.177170 analytic: -0.177170, relative error: 3.140777e-07\n",
      "numerical: -1.021662 analytic: -1.021662, relative error: 3.645176e-08\n",
      "numerical: -2.212445 analytic: -2.212445, relative error: 4.129601e-08\n",
      "numerical: 0.961452 analytic: 0.961452, relative error: 1.718013e-08\n",
      "numerical: -1.657090 analytic: -1.657090, relative error: 1.750289e-08\n",
      "numerical: -2.800714 analytic: -2.800714, relative error: 1.617341e-08\n",
      "numerical: 3.318612 analytic: 3.318611, relative error: 7.252055e-10\n",
      "numerical: 1.748110 analytic: 1.748110, relative error: 3.947207e-09\n",
      "numerical: -0.436117 analytic: -0.436117, relative error: 4.570652e-08\n",
      "numerical: -4.686626 analytic: -4.686626, relative error: 6.127058e-09\n"
     ]
    }
   ],
   "source": [
    "# Complete the implementation of softmax_loss_naive and implement a (naive)\n",
    "# version of the gradient that uses nested loops.\n",
    "loss, grad = softmax_loss_naive(W, X_dev, y_dev, 0.0)\n",
    "\n",
    "# As we did for the SVM, use numeric gradient checking as a debugging tool.\n",
    "# The numeric gradient should be close to the analytic gradient.\n",
    "from cs231n.gradient_check import grad_check_sparse\n",
    "f = lambda w: softmax_loss_naive(w, X_dev, y_dev, 0.0)[0]\n",
    "grad_numerical = grad_check_sparse(f, W, grad, 10)\n",
    "\n",
    "# similar to SVM case, do another gradient check with regularization\n",
    "loss, grad = softmax_loss_naive(W, X_dev, y_dev, 1e2)\n",
    "f = lambda w: softmax_loss_naive(w, X_dev, y_dev, 1e2)[0]\n",
    "grad_numerical = grad_check_sparse(f, W, grad, 10)"
   ]
  },
  {
   "cell_type": "code",
   "execution_count": 20,
   "metadata": {
    "collapsed": false
   },
   "outputs": [
    {
     "name": "stdout",
     "output_type": "stream",
     "text": [
      "naive loss: 2.362634e+00 computed in 0.120000s\n",
      "vectorized loss: 2.362634e+00 computed in 0.131000s\n",
      "Loss difference: 0.000000\n",
      "Gradient difference: 0.000000\n"
     ]
    }
   ],
   "source": [
    "# Now that we have a naive implementation of the softmax loss function and its gradient,\n",
    "# implement a vectorized version in softmax_loss_vectorized.\n",
    "# The two versions should compute the same results, but the vectorized version should be\n",
    "# much faster.\n",
    "tic = time.time()\n",
    "loss_naive, grad_naive = softmax_loss_naive(W, X_dev, y_dev, 0.00001)\n",
    "toc = time.time()\n",
    "print 'naive loss: %e computed in %fs' % (loss_naive, toc - tic)\n",
    "\n",
    "from cs231n.classifiers.softmax import softmax_loss_vectorized\n",
    "tic = time.time()\n",
    "loss_vectorized, grad_vectorized = softmax_loss_vectorized(W, X_dev, y_dev, 0.00001)\n",
    "toc = time.time()\n",
    "print 'vectorized loss: %e computed in %fs' % (loss_vectorized, toc - tic)\n",
    "\n",
    "# As we did for the SVM, we use the Frobenius norm to compare the two versions\n",
    "# of the gradient.\n",
    "grad_difference = np.linalg.norm(grad_naive - grad_vectorized, ord='fro')\n",
    "print 'Loss difference: %f' % np.abs(loss_naive - loss_vectorized)\n",
    "print 'Gradient difference: %f' % grad_difference"
   ]
  },
  {
   "cell_type": "code",
   "execution_count": 15,
   "metadata": {
    "collapsed": false
   },
   "outputs": [
    {
     "name": "stdout",
     "output_type": "stream",
     "text": [
      "iteration 0 / 1500: loss 6.070120\n",
      "iteration 100 / 1500: loss 4.321255\n",
      "iteration 200 / 1500: loss 3.708408\n",
      "iteration 300 / 1500: loss 3.282125\n",
      "iteration 400 / 1500: loss 3.116295\n",
      "iteration 500 / 1500: loss 2.980532\n",
      "iteration 600 / 1500: loss 2.949124\n",
      "iteration 700 / 1500: loss 2.925918\n",
      "iteration 800 / 1500: loss 2.772033\n",
      "iteration 900 / 1500: loss 2.769985\n",
      "iteration 1000 / 1500: loss 2.506141\n",
      "iteration 1100 / 1500: loss 2.685186\n",
      "iteration 1200 / 1500: loss 2.591658\n",
      "iteration 1300 / 1500: loss 2.676301\n",
      "iteration 1400 / 1500: loss 2.556956\n",
      "training accuracy: 0.258449\n",
      "validation accuracy: 0.292000\n",
      "iteration 0 / 1500: loss 6.430615\n",
      "iteration 100 / 1500: loss 3.977253\n",
      "iteration 200 / 1500: loss 3.536655\n",
      "iteration 300 / 1500: loss 3.295683\n",
      "iteration 400 / 1500: loss 3.249091\n",
      "iteration 500 / 1500: loss 3.024891\n",
      "iteration 600 / 1500: loss 3.101324\n",
      "iteration 700 / 1500: loss 2.755363\n",
      "iteration 800 / 1500: loss 2.929734\n",
      "iteration 900 / 1500: loss 2.781720\n",
      "iteration 1000 / 1500: loss 2.853831\n",
      "iteration 1100 / 1500: loss 2.769662\n",
      "iteration 1200 / 1500: loss 2.597040\n",
      "iteration 1300 / 1500: loss 2.673868\n",
      "iteration 1400 / 1500: loss 2.548499\n",
      "training accuracy: 0.245510\n",
      "validation accuracy: 0.248000\n",
      "iteration 0 / 1500: loss 5.793331\n",
      "iteration 100 / 1500: loss 3.686189\n",
      "iteration 200 / 1500: loss 3.302485\n",
      "iteration 300 / 1500: loss 3.249153\n",
      "iteration 400 / 1500: loss 2.955589\n",
      "iteration 500 / 1500: loss 2.950770\n",
      "iteration 600 / 1500: loss 2.735012\n",
      "iteration 700 / 1500: loss 2.649513\n",
      "iteration 800 / 1500: loss 2.690593\n",
      "iteration 900 / 1500: loss 2.613326\n",
      "iteration 1000 / 1500: loss 2.614283\n",
      "iteration 1100 / 1500: loss 2.665870\n",
      "iteration 1200 / 1500: loss 2.491939\n",
      "iteration 1300 / 1500: loss 2.491615\n",
      "iteration 1400 / 1500: loss 2.593812\n",
      "training accuracy: 0.274469\n",
      "validation accuracy: 0.280000\n",
      "iteration 0 / 1500: loss 5.413247\n",
      "iteration 100 / 1500: loss 3.664141\n",
      "iteration 200 / 1500: loss 2.998792\n",
      "iteration 300 / 1500: loss 2.913952\n",
      "iteration 400 / 1500: loss 2.886752\n",
      "iteration 500 / 1500: loss 2.722666\n",
      "iteration 600 / 1500: loss 2.642526\n",
      "iteration 700 / 1500: loss 2.593599\n",
      "iteration 800 / 1500: loss 2.473084\n",
      "iteration 900 / 1500: loss 2.589143\n",
      "iteration 1000 / 1500: loss 2.406928\n",
      "iteration 1100 / 1500: loss 2.387669\n",
      "iteration 1200 / 1500: loss 2.298915\n",
      "iteration 1300 / 1500: loss 2.378576\n",
      "iteration 1400 / 1500: loss 2.400118\n",
      "training accuracy: 0.280306\n",
      "validation accuracy: 0.292000\n",
      "iteration 0 / 1500: loss 6.373906\n",
      "iteration 100 / 1500: loss 3.582202\n",
      "iteration 200 / 1500: loss 3.262216\n",
      "iteration 300 / 1500: loss 2.833552\n",
      "iteration 400 / 1500: loss 2.714499\n",
      "iteration 500 / 1500: loss 2.630636\n",
      "iteration 600 / 1500: loss 2.522148\n",
      "iteration 700 / 1500: loss 2.728478\n",
      "iteration 800 / 1500: loss 2.346920\n",
      "iteration 900 / 1500: loss 2.446583\n",
      "iteration 1000 / 1500: loss 2.366800\n",
      "iteration 1100 / 1500: loss 2.305959\n",
      "iteration 1200 / 1500: loss 2.367133\n",
      "iteration 1300 / 1500: loss 2.273704\n",
      "iteration 1400 / 1500: loss 2.310515\n",
      "training accuracy: 0.295490\n",
      "validation accuracy: 0.288000\n",
      "iteration 0 / 1500: loss 5.671087\n",
      "iteration 100 / 1500: loss 3.645511\n",
      "iteration 200 / 1500: loss 3.237722\n",
      "iteration 300 / 1500: loss 3.020873\n",
      "iteration 400 / 1500: loss 2.625457\n",
      "iteration 500 / 1500: loss 2.550106\n",
      "iteration 600 / 1500: loss 2.467742\n",
      "iteration 700 / 1500: loss 2.568321\n",
      "iteration 800 / 1500: loss 2.395600\n",
      "iteration 900 / 1500: loss 2.369478\n",
      "iteration 1000 / 1500: loss 2.418995\n",
      "iteration 1100 / 1500: loss 2.342337\n",
      "iteration 1200 / 1500: loss 2.230911\n",
      "iteration 1300 / 1500: loss 2.293838\n",
      "iteration 1400 / 1500: loss 2.279742\n",
      "training accuracy: 0.293857\n",
      "validation accuracy: 0.299000\n",
      "iteration 0 / 1500: loss 5.273356\n",
      "iteration 100 / 1500: loss 3.263409\n",
      "iteration 200 / 1500: loss 2.930643\n",
      "iteration 300 / 1500: loss 2.778426\n",
      "iteration 400 / 1500: loss 2.635598\n",
      "iteration 500 / 1500: loss 2.466584\n",
      "iteration 600 / 1500: loss 2.288137\n",
      "iteration 700 / 1500: loss 2.227696\n",
      "iteration 800 / 1500: loss 2.302888\n",
      "iteration 900 / 1500: loss 2.328885\n",
      "iteration 1000 / 1500: loss 2.347432\n",
      "iteration 1100 / 1500: loss 2.336222\n",
      "iteration 1200 / 1500: loss 2.201238\n",
      "iteration 1300 / 1500: loss 2.309345\n",
      "iteration 1400 / 1500: loss 2.191841\n",
      "training accuracy: 0.305224\n",
      "validation accuracy: 0.311000\n",
      "iteration 0 / 1500: loss 5.137550\n",
      "iteration 100 / 1500: loss 3.157866\n",
      "iteration 200 / 1500: loss 2.895423\n",
      "iteration 300 / 1500: loss 2.835824\n",
      "iteration 400 / 1500: loss 2.485735\n",
      "iteration 500 / 1500: loss 2.381383\n",
      "iteration 600 / 1500: loss 2.409149\n",
      "iteration 700 / 1500: loss 2.188962\n",
      "iteration 800 / 1500: loss 2.270828\n",
      "iteration 900 / 1500: loss 2.314415\n",
      "iteration 1000 / 1500: loss 2.381419\n",
      "iteration 1100 / 1500: loss 2.265481\n",
      "iteration 1200 / 1500: loss 2.153412\n",
      "iteration 1300 / 1500: loss 2.184718\n",
      "iteration 1400 / 1500: loss 2.164085\n",
      "training accuracy: 0.308102\n",
      "validation accuracy: 0.297000\n",
      "iteration 0 / 1500: loss 5.823223\n",
      "iteration 100 / 1500: loss 3.047957\n",
      "iteration 200 / 1500: loss 2.760571\n",
      "iteration 300 / 1500: loss 2.464430\n",
      "iteration 400 / 1500: loss 2.490027\n",
      "iteration 500 / 1500: loss 2.396944\n",
      "iteration 600 / 1500: loss 2.205425\n",
      "iteration 700 / 1500: loss 2.312402\n",
      "iteration 800 / 1500: loss 2.132132\n",
      "iteration 900 / 1500: loss 2.278869\n",
      "iteration 1000 / 1500: loss 2.061047\n",
      "iteration 1100 / 1500: loss 2.214298\n",
      "iteration 1200 / 1500: loss 2.173231\n",
      "iteration 1300 / 1500: loss 2.079484\n",
      "iteration 1400 / 1500: loss 2.090888\n",
      "training accuracy: 0.318837\n",
      "validation accuracy: 0.334000\n",
      "iteration 0 / 1500: loss 4.974824\n",
      "iteration 100 / 1500: loss 3.207619\n",
      "iteration 200 / 1500: loss 2.748791\n",
      "iteration 300 / 1500: loss 2.492354\n",
      "iteration 400 / 1500: loss 2.462557\n",
      "iteration 500 / 1500: loss 2.352649\n",
      "iteration 600 / 1500: loss 2.409628\n",
      "iteration 700 / 1500: loss 2.362338\n",
      "iteration 800 / 1500: loss 2.246317\n",
      "iteration 900 / 1500: loss 2.183157\n",
      "iteration 1000 / 1500: loss 2.179879\n",
      "iteration 1100 / 1500: loss 2.247665\n",
      "iteration 1200 / 1500: loss 2.182469\n",
      "iteration 1300 / 1500: loss 2.124538\n",
      "iteration 1400 / 1500: loss 2.049118\n",
      "training accuracy: 0.319265\n",
      "validation accuracy: 0.299000\n",
      "lr 1.000000e-07 reg 5.000000e+04 train accuracy: 0.258449 val accuracy: 0.292000\n",
      "lr 1.000000e-07 reg 5.005000e+07 train accuracy: 0.245510 val accuracy: 0.248000\n",
      "lr 2.000000e-07 reg 5.000000e+04 train accuracy: 0.274469 val accuracy: 0.280000\n",
      "lr 2.000000e-07 reg 5.005000e+07 train accuracy: 0.280306 val accuracy: 0.292000\n",
      "lr 3.000000e-07 reg 5.000000e+04 train accuracy: 0.295490 val accuracy: 0.288000\n",
      "lr 3.000000e-07 reg 5.005000e+07 train accuracy: 0.293857 val accuracy: 0.299000\n",
      "lr 4.000000e-07 reg 5.000000e+04 train accuracy: 0.305224 val accuracy: 0.311000\n",
      "lr 4.000000e-07 reg 5.005000e+07 train accuracy: 0.308102 val accuracy: 0.297000\n",
      "lr 5.000000e-07 reg 5.000000e+04 train accuracy: 0.318837 val accuracy: 0.334000\n",
      "lr 5.000000e-07 reg 5.005000e+07 train accuracy: 0.319265 val accuracy: 0.299000\n",
      "best validation accuracy achieved during cross-validation: 0.334000\n"
     ]
    }
   ],
   "source": [
    "# Use the validation set to tune hyperparameters (regularization strength and\n",
    "# learning rate). You should experiment with different ranges for the learning\n",
    "# rates and regularization strengths; if you are careful you should be able to\n",
    "# get a classification accuracy of over 0.35 on the validation set.\n",
    "from cs231n.classifiers import Softmax\n",
    "results = {}\n",
    "best_val = -1\n",
    "best_softmax = None\n",
    "learning_rates = [1e-7, 5e-7]\n",
    "regularization_strengths = [5e4, 1e8]\n",
    "\n",
    "################################################################################\n",
    "# TODO:                                                                        #\n",
    "# Use the validation set to set the learning rate and regularization strength. #\n",
    "# This should be identical to the validation that you did for the SVM; save    #\n",
    "# the best trained softmax classifer in best_softmax.                          #\n",
    "################################################################################\n",
    "\n",
    "learning_rates = [1e-7, 5e-5]\n",
    "regularization_strengths = [5e4, 1e5]\n",
    "\n",
    "lrd = np.array(range(10, 50 +1, 10)) / 1e8\n",
    "rgd = np.array(range(5, 10000 +1, 5000)) * 1e4\n",
    "for lr in lrd:\n",
    "    for rg in rgd:\n",
    "        softmax = Softmax()\n",
    "        loss_hist = softmax.train(X_train, y_train, learning_rate=lr, reg=rg,\n",
    "                      num_iters=1500, batch_size=500, verbose=True)\n",
    "        y_train_pred = softmax.predict(X_train)\n",
    "        train_acc = np.mean(y_train == y_train_pred)\n",
    "        print 'training accuracy: %f' % (train_acc, )\n",
    "        y_val_pred = softmax.predict(X_val)\n",
    "        val_acc = np.mean(y_val == y_val_pred)\n",
    "        print 'validation accuracy: %f' % (val_acc, )\n",
    "        \n",
    "        results[(lr, rg)] = train_acc, val_acc\n",
    "        if best_val < val_acc :\n",
    "            best_val = val_acc\n",
    "            best_softmax = softmax\n",
    "\n",
    "\n",
    "\n",
    "\n",
    "################################################################################\n",
    "#                              END OF YOUR CODE                                #\n",
    "################################################################################\n",
    "    \n",
    "# Print out results.\n",
    "for lr, reg in sorted(results):\n",
    "    train_accuracy, val_accuracy = results[(lr, reg)]\n",
    "    print 'lr %e reg %e train accuracy: %f val accuracy: %f' % (\n",
    "                lr, reg, train_accuracy, val_accuracy)\n",
    "    \n",
    "print 'best validation accuracy achieved during cross-validation: %f' % best_val"
   ]
  },
  {
   "cell_type": "code",
   "execution_count": 17,
   "metadata": {
    "collapsed": false
   },
   "outputs": [
    {
     "name": "stdout",
     "output_type": "stream",
     "text": [
      "softmax on raw pixels final test set accuracy: 0.310000\n"
     ]
    }
   ],
   "source": [
    "# evaluate on test set\n",
    "# Evaluate the best softmax on test set\n",
    "y_test_pred = best_softmax.predict(X_test)\n",
    "test_accuracy = np.mean(y_test == y_test_pred)\n",
    "print 'softmax on raw pixels final test set accuracy: %f' % (test_accuracy, )"
   ]
  },
  {
   "cell_type": "code",
   "execution_count": 18,
   "metadata": {
    "collapsed": false
   },
   "outputs": [
    {
     "data": {
      "image/png": "[encoded data removed]",
      "text/plain": [
       "<matplotlib.figure.Figure at 0x8632208>"
      ]
     },
     "metadata": {},
     "output_type": "display_data"
    }
   ],
   "source": [
    "# Visualize the learned weights for each class\n",
    "w = best_softmax.W[:-1,:] # strip out the bias\n",
    "w = w.reshape(32, 32, 3, 10)\n",
    "\n",
    "w_min, w_max = np.min(w), np.max(w)\n",
    "\n",
    "classes = ['plane', 'car', 'bird', 'cat', 'deer', 'dog', 'frog', 'horse', 'ship', 'truck']\n",
    "for i in xrange(10):\n",
    "  plt.subplot(2, 5, i + 1)\n",
    "  \n",
    "  # Rescale the weights to be between 0 and 255\n",
    "  wimg = 255.0 * (w[:, :, :, i].squeeze() - w_min) / (w_max - w_min)\n",
    "  plt.imshow(wimg.astype('uint8'))\n",
    "  plt.axis('off')\n",
    "  plt.title(classes[i])"
   ]
  },
  {
   "cell_type": "code",
   "execution_count": null,
   "metadata": {
    "collapsed": true
   },
   "outputs": [],
   "source": []
  }
 ],
 "metadata": {
  "kernelspec": {
   "display_name": "Python 2",
   "language": "python",
   "name": "python2"
  },
  "language_info": {
   "codemirror_mode": {
    "name": "ipython",
    "version": 2
   },
   "file_extension": ".py",
   "mimetype": "text/x-python",
   "name": "python",
   "nbconvert_exporter": "python",
   "pygments_lexer": "ipython2",
   "version": "2.7.11"
  }
 },
 "nbformat": 4,
 "nbformat_minor": 0
}
